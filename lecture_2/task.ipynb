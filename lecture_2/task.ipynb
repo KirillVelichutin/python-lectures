{
 "cells": [
  {
   "cell_type": "code",
   "execution_count": 8,
   "id": "10998a80",
   "metadata": {},
   "outputs": [
    {
     "name": "stdout",
     "output_type": "stream",
     "text": [
      "Привет! Хочешь сняться в кино?: \n",
      "Да\n",
      "Супер! Какую роль хотел бы себе? Халка или Локи?: \n",
      "Локи\n",
      "Слушай, а кого ты больше любишь? Маму или папу?: \n",
      "Маму\n",
      "А теперь иди к папе и пусть он тебя об этом спросит\n"
     ]
    }
   ],
   "source": [
    "print('Привет! Хочешь сняться в кино?: ')\n",
    "decision: str = input()\n",
    "print(decision)\n",
    "\n",
    "if decision.lower() == 'да':\n",
    "    print('Супер! Какую роль хотел бы себе? Халка или Локи?: ')\n",
    "    decision: str = input()\n",
    "    print(decision)\n",
    "    \n",
    "    if decision.lower() == 'халк' or decision.lower() == 'халка':\n",
    "        print('А какой у тебя бицепс в объёме?: ')\n",
    "        biceps = float(input())\n",
    "        print(biceps)\n",
    "        \n",
    "        if biceps >= 60:\n",
    "            print('Да ты машина! Ты принят, приятель!')\n",
    "        elif biceps < 60 and biceps > 0:\n",
    "            print('Ну и нафига ты припёрся? Иди раскачайся сначала.')\n",
    "        else:\n",
    "            print('Ты сам-то вообще понял, что сказал? Давай, досвидания.')\n",
    "    \n",
    "    elif decision.lower() == 'локи':\n",
    "        print('Слушай, а кого ты больше любишь? Маму или папу?: ')\n",
    "        who_loves: str = input()\n",
    "        print(who_loves)\n",
    "        \n",
    "        if who_loves.lower() == 'папу':\n",
    "            print('Давай-ка ты иди отсюда')\n",
    "        elif who_loves.lower() == 'маму':\n",
    "            print('А теперь иди к папе и пусть он тебя об этом спросит')\n",
    "        else:\n",
    "            print('Ты сам-то вообще понял, что сказал? Давай, досвидания.')\n",
    "            \n",
    "    else:\n",
    "        print('Ты сам-то вообще понял, что сказал? Давай, досвидания.')\n",
    "        \n",
    "elif decision.lower() == 'нет':\n",
    "    print('Ну как хочешь. Пока!')\n",
    "else:\n",
    "    print('Ты сам-то вообще понял, что сказал? Давай, досвидания.')"
   ]
  }
 ],
 "metadata": {
  "kernelspec": {
   "display_name": "Python 3",
   "language": "python",
   "name": "python3"
  },
  "language_info": {
   "codemirror_mode": {
    "name": "ipython",
    "version": 3
   },
   "file_extension": ".py",
   "mimetype": "text/x-python",
   "name": "python",
   "nbconvert_exporter": "python",
   "pygments_lexer": "ipython3",
   "version": "3.13.7"
  }
 },
 "nbformat": 4,
 "nbformat_minor": 5
}
