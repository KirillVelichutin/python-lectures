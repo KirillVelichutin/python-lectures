{
 "cells": [
  {
   "cell_type": "code",
   "execution_count": 2,
   "id": "ffa376d1",
   "metadata": {},
   "outputs": [
    {
     "name": "stdout",
     "output_type": "stream",
     "text": [
      "Введите верхний предел: \n",
      "1000\n",
      "Введите нижний предел: \n",
      "-1000\n",
      "0 - твоё число? [Да/Нет]: \n",
      "нет\n",
      "0 больше или меньше загаданного тобой числа? [Больше/Меньше]: \n",
      "больше\n",
      "-500 - твоё число? [Да/Нет]: \n",
      "нет\n",
      "-500 больше или меньше загаданного тобой числа? [Больше/Меньше]: \n",
      "меньше\n",
      "-250 - твоё число? [Да/Нет]: \n",
      "нет\n",
      "-250 больше или меньше загаданного тобой числа? [Больше/Меньше]: \n",
      "меньше\n",
      "-125 - твоё число? [Да/Нет]: \n",
      "да\n"
     ]
    }
   ],
   "source": [
    "print('Введите верхний предел: ')\n",
    "upper_border = int(input())\n",
    "print(upper_border)\n",
    "\n",
    "print('Введите нижний предел: ')\n",
    "lower_border = int(input())\n",
    "print(lower_border)\n",
    "\n",
    "\n",
    "\n",
    "while True:\n",
    "    guessed = (upper_border + lower_border) // 2\n",
    "    print(f'{guessed} - твоё число? [Да/Нет]: ')\n",
    "    answer = input()\n",
    "    print(answer)\n",
    "    \n",
    "    if answer.lower() == 'да':\n",
    "        break\n",
    "    \n",
    "    elif answer.lower() == 'нет':\n",
    "        print(f'{guessed} больше или меньше загаданного тобой числа? [Больше/Меньше]: ')\n",
    "        answer = input()\n",
    "        print(answer)\n",
    "        \n",
    "        if answer.lower() == 'меньше':\n",
    "            lower_border = guessed\n",
    "\n",
    "        elif answer.lower() == 'больше':\n",
    "            upper_border = guessed\n",
    "            \n",
    "        else:\n",
    "            print('Сам понял, что сказал?')\n",
    "            \n",
    "    else:\n",
    "        print('Сам понял, что сказал?')"
   ]
  }
 ],
 "metadata": {
  "kernelspec": {
   "display_name": "Python 3",
   "language": "python",
   "name": "python3"
  },
  "language_info": {
   "codemirror_mode": {
    "name": "ipython",
    "version": 3
   },
   "file_extension": ".py",
   "mimetype": "text/x-python",
   "name": "python",
   "nbconvert_exporter": "python",
   "pygments_lexer": "ipython3",
   "version": "3.13.7"
  }
 },
 "nbformat": 4,
 "nbformat_minor": 5
}
