{
 "cells": [
  {
   "cell_type": "code",
   "execution_count": 1,
   "id": "ef04f5c7",
   "metadata": {},
   "outputs": [
    {
     "name": "stdout",
     "output_type": "stream",
     "text": [
      "Сколько строк вы хотите вывести?: \n",
      "5 \n",
      "\n",
      "[1]\n",
      "[1, 1]\n",
      "[1, 2, 1]\n",
      "[1, 3, 3, 1]\n",
      "[1, 4, 6, 4, 1]\n"
     ]
    }
   ],
   "source": [
    "print(\"Сколько строк вы хотите вывести?: \")\n",
    "numRows = int(input())\n",
    "print(numRows, '\\n')\n",
    "\n",
    "triangle = [[1]]\n",
    "\n",
    "for i in range(numRows - 1):\n",
    "    constructor = [0] + triangle[-1] + [0]\n",
    "    newRow = []\n",
    "    for j in range(len(triangle[-1]) + 1):\n",
    "        newRow.append(constructor[j] + constructor[j + 1])\n",
    "    \n",
    "    triangle.append(newRow)\n",
    "\n",
    "for row in triangle:\n",
    "    print(row)"
   ]
  }
 ],
 "metadata": {
  "kernelspec": {
   "display_name": "Python 3",
   "language": "python",
   "name": "python3"
  },
  "language_info": {
   "codemirror_mode": {
    "name": "ipython",
    "version": 3
   },
   "file_extension": ".py",
   "mimetype": "text/x-python",
   "name": "python",
   "nbconvert_exporter": "python",
   "pygments_lexer": "ipython3",
   "version": "3.13.7"
  }
 },
 "nbformat": 4,
 "nbformat_minor": 5
}
