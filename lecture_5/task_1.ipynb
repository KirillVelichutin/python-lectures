{
 "cells": [
  {
   "cell_type": "code",
   "execution_count": 2,
   "id": "cab41119",
   "metadata": {},
   "outputs": [
    {
     "name": "stdout",
     "output_type": "stream",
     "text": [
      "Введите имя:\n",
      "newuser\n"
     ]
    },
    {
     "data": {
      "text/html": [
       "<pre style=\"white-space:pre;overflow-x:auto;line-height:normal;font-family:Menlo,'DejaVu Sans Mono',consolas,'Courier New',monospace\">Hello <span style=\"color: #008000; text-decoration-color: #008000; font-weight: bold\">nEwUsEr</span>!\n",
       "</pre>\n"
      ],
      "text/plain": [
       "Hello \u001b[1;32mnEwUsEr\u001b[0m!\n"
      ]
     },
     "metadata": {},
     "output_type": "display_data"
    }
   ],
   "source": [
    "from my_function import change_name, greet\n",
    "\n",
    "print(\"Введите имя:\")\n",
    "user_name = input()\n",
    "print(user_name)\n",
    "\n",
    "changed_name = change_name(user_name)\n",
    "\n",
    "greet(changed_name)"
   ]
  }
 ],
 "metadata": {
  "kernelspec": {
   "display_name": "Python 3",
   "language": "python",
   "name": "python3"
  },
  "language_info": {
   "codemirror_mode": {
    "name": "ipython",
    "version": 3
   },
   "file_extension": ".py",
   "mimetype": "text/x-python",
   "name": "python",
   "nbconvert_exporter": "python",
   "pygments_lexer": "ipython3",
   "version": "3.13.7"
  }
 },
 "nbformat": 4,
 "nbformat_minor": 5
}
