{
 "cells": [
  {
   "cell_type": "code",
   "execution_count": 1,
   "id": "d5377e41",
   "metadata": {},
   "outputs": [
    {
     "name": "stdout",
     "output_type": "stream",
     "text": [
      "Какое число вы хотите получить по его номеру в последовательности?: \n",
      "20\n",
      "Result: 6765\n",
      "The cache is: {20: 6765}\n"
     ]
    }
   ],
   "source": [
    "import time\n",
    "\n",
    "arr = [1, 1]\n",
    "\n",
    "cache = {}\n",
    "\n",
    "def fibonacci(position):\n",
    "    if position == len(arr)  or position == 1:\n",
    "        cache[position] = arr[position - 1]\n",
    "    \n",
    "    if position in cache:\n",
    "        print(f\"Result: {cache[position]}\")\n",
    "        \n",
    "    elif position < 1:\n",
    "        print(\"Недопустимое значение!\")\n",
    "        \n",
    "    else:\n",
    "        arr.append(arr[-2] + arr[-1])\n",
    "        return fibonacci(position)\n",
    "\n",
    "\n",
    "if __name__ == \"__main__\":\n",
    "    print('Какое число вы хотите получить по его номеру в последовательности?: ')\n",
    "    position = int(input())\n",
    "    print(position)\n",
    "    \n",
    "    fibonacci(position)\n",
    "    \n",
    "    print(f\"The cache is: {cache}\")"
   ]
  }
 ],
 "metadata": {
  "kernelspec": {
   "display_name": "Python 3",
   "language": "python",
   "name": "python3"
  },
  "language_info": {
   "codemirror_mode": {
    "name": "ipython",
    "version": 3
   },
   "file_extension": ".py",
   "mimetype": "text/x-python",
   "name": "python",
   "nbconvert_exporter": "python",
   "pygments_lexer": "ipython3",
   "version": "3.13.7"
  }
 },
 "nbformat": 4,
 "nbformat_minor": 5
}
