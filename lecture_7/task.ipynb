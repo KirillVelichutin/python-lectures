{
 "cells": [
  {
   "cell_type": "code",
   "execution_count": 3,
   "id": "f2340cee",
   "metadata": {},
   "outputs": [
    {
     "data": {
      "text/html": [
       "<pre style=\"white-space:pre;overflow-x:auto;line-height:normal;font-family:Menlo,'DejaVu Sans Mono',consolas,'Courier New',monospace\"><span style=\"color: #008000; text-decoration-color: #008000; font-weight: bold\">Шрек</span><span style=\"font-weight: bold\">:</span> <span style=\"font-style: italic\">Слушайте, сказочные твари! Не будьте как дома, вам тут официально не рады. Это факт.</span>\n",
       "</pre>\n"
      ],
      "text/plain": [
       "\u001b[1;32mШрек\u001b[0m\u001b[1m:\u001b[0m \u001b[3mСлушайте, сказочные твари! Не будьте как дома, вам тут официально не рады. Это факт.\u001b[0m\n"
      ]
     },
     "metadata": {},
     "output_type": "display_data"
    },
    {
     "data": {
      "text/html": [
       "<pre style=\"white-space:pre;overflow-x:auto;line-height:normal;font-family:Menlo,'DejaVu Sans Mono',consolas,'Courier New',monospace\"><span style=\"color: #800000; text-decoration-color: #800000; font-weight: bold\">Осёл</span><span style=\"font-weight: bold\">:</span> <span style=\"font-style: italic\">Не шевелиться! Мой дракон на боевом взводе. Я - отчаянный осёл!</span>\n",
       "</pre>\n"
      ],
      "text/plain": [
       "\u001b[1;31mОсёл\u001b[0m\u001b[1m:\u001b[0m \u001b[3mНе шевелиться! Мой дракон на боевом взводе. Я - отчаянный осёл!\u001b[0m\n"
      ]
     },
     "metadata": {},
     "output_type": "display_data"
    },
    {
     "data": {
      "text/html": [
       "<pre style=\"white-space:pre;overflow-x:auto;line-height:normal;font-family:Menlo,'DejaVu Sans Mono',consolas,'Courier New',monospace\"><span style=\"color: #808000; text-decoration-color: #808000; font-weight: bold\">Кот в сапогах</span><span style=\"font-weight: bold\">:</span> <span style=\"font-style: italic\">Осёл</span><span style=\"color: #808000; text-decoration-color: #808000; font-style: italic\">...</span><span style=\"font-style: italic\"> побежал. Но далеко ли можно убежать по покрытой маслом тарелке, да ещё в розовой пачке! И в </span>\n",
       "<span style=\"font-style: italic\">сомбреро! И в лифчике из кокоса!</span>\n",
       "</pre>\n"
      ],
      "text/plain": [
       "\u001b[1;33mКот в сапогах\u001b[0m\u001b[1m:\u001b[0m \u001b[3mОсёл\u001b[0m\u001b[3;33m...\u001b[0m\u001b[3m побежал. Но далеко ли можно убежать по покрытой маслом тарелке, да ещё в розовой пачке! И в \u001b[0m\n",
       "\u001b[3mсомбреро! И в лифчике из кокоса!\u001b[0m\n"
      ]
     },
     "metadata": {},
     "output_type": "display_data"
    },
    {
     "data": {
      "text/html": [
       "<pre style=\"white-space:pre;overflow-x:auto;line-height:normal;font-family:Menlo,'DejaVu Sans Mono',consolas,'Courier New',monospace\"><span style=\"color: #000080; text-decoration-color: #000080; font-weight: bold\">Джэк Хорнен</span><span style=\"font-weight: bold\">:</span> <span style=\"font-style: italic\">Пирог не приготовишь без дюжины смертей</span><span style=\"color: #808000; text-decoration-color: #808000; font-style: italic\">...</span>\n",
       "</pre>\n"
      ],
      "text/plain": [
       "\u001b[1;34mДжэк Хорнен\u001b[0m\u001b[1m:\u001b[0m \u001b[3mПирог не приготовишь без дюжины смертей\u001b[0m\u001b[3;33m...\u001b[0m\n"
      ]
     },
     "metadata": {},
     "output_type": "display_data"
    },
    {
     "name": "stdout",
     "output_type": "stream",
     "text": [
      "---------------\n"
     ]
    },
    {
     "data": {
      "text/html": [
       "<pre style=\"white-space:pre;overflow-x:auto;line-height:normal;font-family:Menlo,'DejaVu Sans Mono',consolas,'Courier New',monospace\"><span style=\"color: #800000; text-decoration-color: #800000\">Осёл</span> показывает действие\n",
       "</pre>\n"
      ],
      "text/plain": [
       "\u001b[31mОсёл\u001b[0m показывает действие\n"
      ]
     },
     "metadata": {},
     "output_type": "display_data"
    },
    {
     "data": {
      "text/html": [
       "<pre style=\"white-space:pre;overflow-x:auto;line-height:normal;font-family:Menlo,'DejaVu Sans Mono',consolas,'Courier New',monospace\"><span style=\"color: #000080; text-decoration-color: #000080\">Джэк Хорнен</span> - это кто? У нас такого нет\n",
       "</pre>\n"
      ],
      "text/plain": [
       "\u001b[34mДжэк Хорнен\u001b[0m - это кто? У нас такого нет\n"
      ]
     },
     "metadata": {},
     "output_type": "display_data"
    },
    {
     "data": {
      "text/html": [
       "<pre style=\"white-space:pre;overflow-x:auto;line-height:normal;font-family:Menlo,'DejaVu Sans Mono',consolas,'Courier New',monospace\">*Косплеер в костюме <span style=\"color: #008000; text-decoration-color: #008000\">'Шрек'</span> делает сальто*\n",
       "</pre>\n"
      ],
      "text/plain": [
       "*Косплеер в костюме \u001b[32m'\u001b[0m\u001b[32mШрек\u001b[0m\u001b[32m'\u001b[0m делает сальто*\n"
      ]
     },
     "metadata": {},
     "output_type": "display_data"
    }
   ],
   "source": [
    "from rich import print as rprint\n",
    "\n",
    "\n",
    "class MixinActionable:\n",
    "    def perform_action(self):\n",
    "        rprint(f\"{self.name} показывает действие\" if self.is_animated is True else f\"{self.name} не может показывать действий\")\n",
    "\n",
    "class MixinCollectible:\n",
    "    is_collectible: bool\n",
    "    \n",
    "    def __init__(self):\n",
    "        self.is_collectible = True #default\n",
    "\n",
    "class MixinCostumeWearable:\n",
    "    costume: str\n",
    "    \n",
    "class MixinPoseable:\n",
    "    def pose(self):\n",
    "        rprint(f\"*Косплеер в костюме '{self.costume}' делает сальто*\")\n",
    "\n",
    "class MixinAnimated:\n",
    "    is_animated: bool\n",
    "\n",
    "class MixinSpeakable:\n",
    "    def speak(self):\n",
    "        rprint(f\"[bold]{self.name}:[/bold] [italic]{self.speech}\")\n",
    "\n",
    "\n",
    "class BaseHuman:\n",
    "    is_human: bool\n",
    "\n",
    "\n",
    "\n",
    "class BaseCharacter(MixinSpeakable, MixinAnimated):\n",
    "    name: str\n",
    "    is_animated: bool\n",
    "\n",
    "class BaseInAcionCharacter(MixinActionable):\n",
    "    pass\n",
    "\n",
    "class BaseFunkoPop(MixinCollectible):\n",
    "    \n",
    "    def display(self):\n",
    "        rprint(f\"Вы только посмотрите! Это же - {self.name}!\" if self.is_collectible is True else f\"{self.name} - это кто? У нас такого нет\")\n",
    "\n",
    "class BaseCosplayer(BaseHuman, MixinPoseable, MixinCostumeWearable):\n",
    "    def __init__(self):\n",
    "        super().__init__()\n",
    "        self.is_human = True\n",
    "\n",
    "\n",
    "\n",
    "class Shrek(BaseCharacter):\n",
    "    def __init__(self):\n",
    "        self.name = f\"[green]Шрек[/green]\"\n",
    "        self.is_animated = True\n",
    "        self.speech = \"Слушайте, сказочные твари! Не будьте как дома, вам тут официально не рады. Это факт.\"\n",
    "\n",
    "class Donkey(BaseCharacter):\n",
    "    def __init__(self):\n",
    "        self.name = f\"[red]Осёл[/red]\"\n",
    "        self.is_animated = True\n",
    "        self.speech = \"Не шевелиться! Мой дракон на боевом взводе. Я - отчаянный осёл!\"\n",
    "        \n",
    "class PussInBoots(BaseCharacter):\n",
    "    def __init__(self):\n",
    "        self.name = f\"[yellow]Кот в сапогах[/yellow]\"\n",
    "        self.is_animated = True\n",
    "        self.speech = \"Осёл... побежал. Но далеко ли можно убежать по покрытой маслом тарелке, да ещё в розовой пачке! И в сомбреро! И в лифчике из кокоса!\"\n",
    "\n",
    "class JackHorner(BaseCharacter):\n",
    "    def __init__(self):\n",
    "        self.name = f\"[blue]Джэк Хорнен[/blue]\"\n",
    "        self.is_animated = True\n",
    "        self.speech = \"Пирог не приготовишь без дюжины смертей...\"\n",
    "        \n",
    "\n",
    "\n",
    "class ShrekInAction(Shrek, BaseInAcionCharacter):\n",
    "    pass\n",
    "\n",
    "class DonkeyInAction(Donkey, BaseInAcionCharacter):\n",
    "    pass\n",
    "\n",
    "class PussInBootsInAction(PussInBoots, BaseInAcionCharacter):\n",
    "    pass\n",
    "\n",
    "class JackHornerInAction(JackHorner, BaseInAcionCharacter):\n",
    "    pass\n",
    "\n",
    "class ShrekFunkoPop(Shrek, BaseFunkoPop):\n",
    "    pass\n",
    "\n",
    "class DonkeyFunkoPop(Donkey, BaseFunkoPop):\n",
    "    pass\n",
    "\n",
    "class PussInBootsFunkoPop(PussInBoots, BaseFunkoPop):\n",
    "    pass\n",
    "\n",
    "class JackHornerFunkoPop(JackHorner, BaseFunkoPop):\n",
    "    def __init__(self):\n",
    "        super().__init__()\n",
    "        self.is_collectible = False\n",
    "\n",
    "\n",
    "class ShrekCosplayer(Shrek, BaseCosplayer):\n",
    "    def __init__(self):\n",
    "        super().__init__()\n",
    "        self.costume = self.name\n",
    "\n",
    "class DonkeyCosplayer(Donkey, BaseCosplayer):\n",
    "    def __init__(self):\n",
    "        super().__init__()\n",
    "        self.costume = self.name\n",
    "\n",
    "class PussInBootsCosplayer(PussInBoots, BaseCosplayer):\n",
    "    def __init__(self):\n",
    "        super().__init__()\n",
    "        self.costume = self.name\n",
    "\n",
    "class JackHornerCosplayer(JackHorner, BaseCosplayer):\n",
    "    def __init__(self):\n",
    "        super().__init__()\n",
    "        self.costume = self.name\n",
    "    \n",
    "if __name__ == \"__main__\":\n",
    "    s = Shrek()\n",
    "    s.speak()\n",
    "    \n",
    "    d = Donkey()\n",
    "    d.speak()\n",
    "    \n",
    "    pib = PussInBoots()\n",
    "    pib.speak()\n",
    "    \n",
    "    jh = JackHorner()\n",
    "    jh.speak()\n",
    "    \n",
    "    print(\"-\" * 15)\n",
    "    \n",
    "    sin = DonkeyInAction()\n",
    "    sin.perform_action()\n",
    "    \n",
    "    jhfp = JackHornerFunkoPop()\n",
    "    jhfp.display()\n",
    "    \n",
    "    sc = ShrekCosplayer()\n",
    "    sc.pose()"
   ]
  }
 ],
 "metadata": {
  "kernelspec": {
   "display_name": "Python 3",
   "language": "python",
   "name": "python3"
  },
  "language_info": {
   "codemirror_mode": {
    "name": "ipython",
    "version": 3
   },
   "file_extension": ".py",
   "mimetype": "text/x-python",
   "name": "python",
   "nbconvert_exporter": "python",
   "pygments_lexer": "ipython3",
   "version": "3.13.7"
  }
 },
 "nbformat": 4,
 "nbformat_minor": 5
}
