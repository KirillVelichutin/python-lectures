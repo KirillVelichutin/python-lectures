{
 "cells": [
  {
   "cell_type": "code",
   "execution_count": 5,
   "id": "f089970c",
   "metadata": {},
   "outputs": [
    {
     "data": {
      "text/html": [
       "<pre style=\"white-space:pre;overflow-x:auto;line-height:normal;font-family:Menlo,'DejaVu Sans Mono',consolas,'Courier New',monospace\">I see, you are thirst for the blood.\n",
       "</pre>\n"
      ],
      "text/plain": [
       "I see, you are thirst for the blood.\n"
      ]
     },
     "metadata": {},
     "output_type": "display_data"
    },
    {
     "data": {
      "text/html": [
       "<pre style=\"white-space:pre;overflow-x:auto;line-height:normal;font-family:Menlo,'DejaVu Sans Mono',consolas,'Courier New',monospace\">Well, input the number of armies which you're willing to crush: \n",
       "</pre>\n"
      ],
      "text/plain": [
       "Well, input the number of armies which you're willing to crush: \n"
      ]
     },
     "metadata": {},
     "output_type": "display_data"
    },
    {
     "data": {
      "text/html": [
       "<pre style=\"white-space:pre;overflow-x:auto;line-height:normal;font-family:Menlo,'DejaVu Sans Mono',consolas,'Courier New',monospace\"><span style=\"color: #008080; text-decoration-color: #008080; font-weight: bold\">3</span>\n",
       "</pre>\n"
      ],
      "text/plain": [
       "\u001b[1;36m3\u001b[0m\n"
      ]
     },
     "metadata": {},
     "output_type": "display_data"
    },
    {
     "data": {
      "text/html": [
       "<pre style=\"white-space:pre;overflow-x:auto;line-height:normal;font-family:Menlo,'DejaVu Sans Mono',consolas,'Courier New',monospace\">How army <span style=\"color: #008080; text-decoration-color: #008080; font-weight: bold\">1</span> will be called <span style=\"font-weight: bold\">(</span><span style=\"color: #808000; text-decoration-color: #808000\">JOHN</span>, <span style=\"color: #008000; text-decoration-color: #008000\">PAUL</span>, <span style=\"color: #800000; text-decoration-color: #800000\">GEORGE</span>, <span style=\"color: #000080; text-decoration-color: #000080\">RINGO</span><span style=\"font-weight: bold\">)</span>?: \n",
       "</pre>\n"
      ],
      "text/plain": [
       "How army \u001b[1;36m1\u001b[0m will be called \u001b[1m(\u001b[0m\u001b[33mJOHN\u001b[0m, \u001b[32mPAUL\u001b[0m, \u001b[31mGEORGE\u001b[0m, \u001b[34mRINGO\u001b[0m\u001b[1m)\u001b[0m?: \n"
      ]
     },
     "metadata": {},
     "output_type": "display_data"
    },
    {
     "data": {
      "text/html": [
       "<pre style=\"white-space:pre;overflow-x:auto;line-height:normal;font-family:Menlo,'DejaVu Sans Mono',consolas,'Courier New',monospace\">john\n",
       "</pre>\n"
      ],
      "text/plain": [
       "john\n"
      ]
     },
     "metadata": {},
     "output_type": "display_data"
    },
    {
     "data": {
      "text/html": [
       "<pre style=\"white-space:pre;overflow-x:auto;line-height:normal;font-family:Menlo,'DejaVu Sans Mono',consolas,'Courier New',monospace\">How army <span style=\"color: #008080; text-decoration-color: #008080; font-weight: bold\">2</span> will be called <span style=\"font-weight: bold\">(</span><span style=\"color: #808000; text-decoration-color: #808000\">JOHN</span>, <span style=\"color: #008000; text-decoration-color: #008000\">PAUL</span>, <span style=\"color: #800000; text-decoration-color: #800000\">GEORGE</span>, <span style=\"color: #000080; text-decoration-color: #000080\">RINGO</span><span style=\"font-weight: bold\">)</span>?: \n",
       "</pre>\n"
      ],
      "text/plain": [
       "How army \u001b[1;36m2\u001b[0m will be called \u001b[1m(\u001b[0m\u001b[33mJOHN\u001b[0m, \u001b[32mPAUL\u001b[0m, \u001b[31mGEORGE\u001b[0m, \u001b[34mRINGO\u001b[0m\u001b[1m)\u001b[0m?: \n"
      ]
     },
     "metadata": {},
     "output_type": "display_data"
    },
    {
     "data": {
      "text/html": [
       "<pre style=\"white-space:pre;overflow-x:auto;line-height:normal;font-family:Menlo,'DejaVu Sans Mono',consolas,'Courier New',monospace\">paul\n",
       "</pre>\n"
      ],
      "text/plain": [
       "paul\n"
      ]
     },
     "metadata": {},
     "output_type": "display_data"
    },
    {
     "data": {
      "text/html": [
       "<pre style=\"white-space:pre;overflow-x:auto;line-height:normal;font-family:Menlo,'DejaVu Sans Mono',consolas,'Courier New',monospace\">How army <span style=\"color: #008080; text-decoration-color: #008080; font-weight: bold\">3</span> will be called <span style=\"font-weight: bold\">(</span><span style=\"color: #808000; text-decoration-color: #808000\">JOHN</span>, <span style=\"color: #008000; text-decoration-color: #008000\">PAUL</span>, <span style=\"color: #800000; text-decoration-color: #800000\">GEORGE</span>, <span style=\"color: #000080; text-decoration-color: #000080\">RINGO</span><span style=\"font-weight: bold\">)</span>?: \n",
       "</pre>\n"
      ],
      "text/plain": [
       "How army \u001b[1;36m3\u001b[0m will be called \u001b[1m(\u001b[0m\u001b[33mJOHN\u001b[0m, \u001b[32mPAUL\u001b[0m, \u001b[31mGEORGE\u001b[0m, \u001b[34mRINGO\u001b[0m\u001b[1m)\u001b[0m?: \n"
      ]
     },
     "metadata": {},
     "output_type": "display_data"
    },
    {
     "data": {
      "text/html": [
       "<pre style=\"white-space:pre;overflow-x:auto;line-height:normal;font-family:Menlo,'DejaVu Sans Mono',consolas,'Courier New',monospace\">george\n",
       "</pre>\n"
      ],
      "text/plain": [
       "george\n"
      ]
     },
     "metadata": {},
     "output_type": "display_data"
    },
    {
     "data": {
      "text/html": [
       "<pre style=\"white-space:pre;overflow-x:auto;line-height:normal;font-family:Menlo,'DejaVu Sans Mono',consolas,'Courier New',monospace\">Input the quantity of beetles in army <span style=\"color: #008080; text-decoration-color: #008080; font-weight: bold\">1</span>: \n",
       "</pre>\n"
      ],
      "text/plain": [
       "Input the quantity of beetles in army \u001b[1;36m1\u001b[0m: \n"
      ]
     },
     "metadata": {},
     "output_type": "display_data"
    },
    {
     "data": {
      "text/html": [
       "<pre style=\"white-space:pre;overflow-x:auto;line-height:normal;font-family:Menlo,'DejaVu Sans Mono',consolas,'Courier New',monospace\"><span style=\"color: #008080; text-decoration-color: #008080; font-weight: bold\">7</span>\n",
       "</pre>\n"
      ],
      "text/plain": [
       "\u001b[1;36m7\u001b[0m\n"
      ]
     },
     "metadata": {},
     "output_type": "display_data"
    },
    {
     "data": {
      "text/html": [
       "<pre style=\"white-space:pre;overflow-x:auto;line-height:normal;font-family:Menlo,'DejaVu Sans Mono',consolas,'Courier New',monospace\">Input the max health value of beetles in army <span style=\"color: #008080; text-decoration-color: #008080; font-weight: bold\">1</span>: \n",
       "</pre>\n"
      ],
      "text/plain": [
       "Input the max health value of beetles in army \u001b[1;36m1\u001b[0m: \n"
      ]
     },
     "metadata": {},
     "output_type": "display_data"
    },
    {
     "data": {
      "text/html": [
       "<pre style=\"white-space:pre;overflow-x:auto;line-height:normal;font-family:Menlo,'DejaVu Sans Mono',consolas,'Courier New',monospace\"><span style=\"color: #008080; text-decoration-color: #008080; font-weight: bold\">10</span>\n",
       "</pre>\n"
      ],
      "text/plain": [
       "\u001b[1;36m10\u001b[0m\n"
      ]
     },
     "metadata": {},
     "output_type": "display_data"
    },
    {
     "data": {
      "text/html": [
       "<pre style=\"white-space:pre;overflow-x:auto;line-height:normal;font-family:Menlo,'DejaVu Sans Mono',consolas,'Courier New',monospace\">Input the max power value of beetles in army <span style=\"color: #008080; text-decoration-color: #008080; font-weight: bold\">1</span>: \n",
       "</pre>\n"
      ],
      "text/plain": [
       "Input the max power value of beetles in army \u001b[1;36m1\u001b[0m: \n"
      ]
     },
     "metadata": {},
     "output_type": "display_data"
    },
    {
     "data": {
      "text/html": [
       "<pre style=\"white-space:pre;overflow-x:auto;line-height:normal;font-family:Menlo,'DejaVu Sans Mono',consolas,'Courier New',monospace\"><span style=\"color: #008080; text-decoration-color: #008080; font-weight: bold\">30</span>\n",
       "</pre>\n"
      ],
      "text/plain": [
       "\u001b[1;36m30\u001b[0m\n"
      ]
     },
     "metadata": {},
     "output_type": "display_data"
    },
    {
     "data": {
      "text/html": [
       "<pre style=\"white-space:pre;overflow-x:auto;line-height:normal;font-family:Menlo,'DejaVu Sans Mono',consolas,'Courier New',monospace\">Input the quantity of beetles in army <span style=\"color: #008080; text-decoration-color: #008080; font-weight: bold\">2</span>: \n",
       "</pre>\n"
      ],
      "text/plain": [
       "Input the quantity of beetles in army \u001b[1;36m2\u001b[0m: \n"
      ]
     },
     "metadata": {},
     "output_type": "display_data"
    },
    {
     "data": {
      "text/html": [
       "<pre style=\"white-space:pre;overflow-x:auto;line-height:normal;font-family:Menlo,'DejaVu Sans Mono',consolas,'Courier New',monospace\"><span style=\"color: #008080; text-decoration-color: #008080; font-weight: bold\">4</span>\n",
       "</pre>\n"
      ],
      "text/plain": [
       "\u001b[1;36m4\u001b[0m\n"
      ]
     },
     "metadata": {},
     "output_type": "display_data"
    },
    {
     "data": {
      "text/html": [
       "<pre style=\"white-space:pre;overflow-x:auto;line-height:normal;font-family:Menlo,'DejaVu Sans Mono',consolas,'Courier New',monospace\">Input the max health value of beetles in army <span style=\"color: #008080; text-decoration-color: #008080; font-weight: bold\">2</span>: \n",
       "</pre>\n"
      ],
      "text/plain": [
       "Input the max health value of beetles in army \u001b[1;36m2\u001b[0m: \n"
      ]
     },
     "metadata": {},
     "output_type": "display_data"
    },
    {
     "data": {
      "text/html": [
       "<pre style=\"white-space:pre;overflow-x:auto;line-height:normal;font-family:Menlo,'DejaVu Sans Mono',consolas,'Courier New',monospace\"><span style=\"color: #008080; text-decoration-color: #008080; font-weight: bold\">20</span>\n",
       "</pre>\n"
      ],
      "text/plain": [
       "\u001b[1;36m20\u001b[0m\n"
      ]
     },
     "metadata": {},
     "output_type": "display_data"
    },
    {
     "data": {
      "text/html": [
       "<pre style=\"white-space:pre;overflow-x:auto;line-height:normal;font-family:Menlo,'DejaVu Sans Mono',consolas,'Courier New',monospace\">Input the max power value of beetles in army <span style=\"color: #008080; text-decoration-color: #008080; font-weight: bold\">2</span>: \n",
       "</pre>\n"
      ],
      "text/plain": [
       "Input the max power value of beetles in army \u001b[1;36m2\u001b[0m: \n"
      ]
     },
     "metadata": {},
     "output_type": "display_data"
    },
    {
     "data": {
      "text/html": [
       "<pre style=\"white-space:pre;overflow-x:auto;line-height:normal;font-family:Menlo,'DejaVu Sans Mono',consolas,'Courier New',monospace\"><span style=\"color: #008080; text-decoration-color: #008080; font-weight: bold\">70</span>\n",
       "</pre>\n"
      ],
      "text/plain": [
       "\u001b[1;36m70\u001b[0m\n"
      ]
     },
     "metadata": {},
     "output_type": "display_data"
    },
    {
     "data": {
      "text/html": [
       "<pre style=\"white-space:pre;overflow-x:auto;line-height:normal;font-family:Menlo,'DejaVu Sans Mono',consolas,'Courier New',monospace\">Input the quantity of beetles in army <span style=\"color: #008080; text-decoration-color: #008080; font-weight: bold\">3</span>: \n",
       "</pre>\n"
      ],
      "text/plain": [
       "Input the quantity of beetles in army \u001b[1;36m3\u001b[0m: \n"
      ]
     },
     "metadata": {},
     "output_type": "display_data"
    },
    {
     "data": {
      "text/html": [
       "<pre style=\"white-space:pre;overflow-x:auto;line-height:normal;font-family:Menlo,'DejaVu Sans Mono',consolas,'Courier New',monospace\"><span style=\"color: #008080; text-decoration-color: #008080; font-weight: bold\">30</span>\n",
       "</pre>\n"
      ],
      "text/plain": [
       "\u001b[1;36m30\u001b[0m\n"
      ]
     },
     "metadata": {},
     "output_type": "display_data"
    },
    {
     "data": {
      "text/html": [
       "<pre style=\"white-space:pre;overflow-x:auto;line-height:normal;font-family:Menlo,'DejaVu Sans Mono',consolas,'Courier New',monospace\">Input the max health value of beetles in army <span style=\"color: #008080; text-decoration-color: #008080; font-weight: bold\">3</span>: \n",
       "</pre>\n"
      ],
      "text/plain": [
       "Input the max health value of beetles in army \u001b[1;36m3\u001b[0m: \n"
      ]
     },
     "metadata": {},
     "output_type": "display_data"
    },
    {
     "data": {
      "text/html": [
       "<pre style=\"white-space:pre;overflow-x:auto;line-height:normal;font-family:Menlo,'DejaVu Sans Mono',consolas,'Courier New',monospace\"><span style=\"color: #008080; text-decoration-color: #008080; font-weight: bold\">5</span>\n",
       "</pre>\n"
      ],
      "text/plain": [
       "\u001b[1;36m5\u001b[0m\n"
      ]
     },
     "metadata": {},
     "output_type": "display_data"
    },
    {
     "data": {
      "text/html": [
       "<pre style=\"white-space:pre;overflow-x:auto;line-height:normal;font-family:Menlo,'DejaVu Sans Mono',consolas,'Courier New',monospace\">Input the max power value of beetles in army <span style=\"color: #008080; text-decoration-color: #008080; font-weight: bold\">3</span>: \n",
       "</pre>\n"
      ],
      "text/plain": [
       "Input the max power value of beetles in army \u001b[1;36m3\u001b[0m: \n"
      ]
     },
     "metadata": {},
     "output_type": "display_data"
    },
    {
     "data": {
      "text/html": [
       "<pre style=\"white-space:pre;overflow-x:auto;line-height:normal;font-family:Menlo,'DejaVu Sans Mono',consolas,'Courier New',monospace\"><span style=\"color: #008080; text-decoration-color: #008080; font-weight: bold\">100</span>\n",
       "</pre>\n"
      ],
      "text/plain": [
       "\u001b[1;36m100\u001b[0m\n"
      ]
     },
     "metadata": {},
     "output_type": "display_data"
    },
    {
     "data": {
      "text/html": [
       "<pre style=\"white-space:pre;overflow-x:auto;line-height:normal;font-family:Menlo,'DejaVu Sans Mono',consolas,'Courier New',monospace\">\n",
       "Overall <span style=\"color: #008080; text-decoration-color: #008080; font-weight: bold\">3</span> armies were created for the great battle!\n",
       "</pre>\n"
      ],
      "text/plain": [
       "\n",
       "Overall \u001b[1;36m3\u001b[0m armies were created for the great battle!\n"
      ]
     },
     "metadata": {},
     "output_type": "display_data"
    },
    {
     "data": {
      "text/html": [
       "<pre style=\"white-space:pre;overflow-x:auto;line-height:normal;font-family:Menlo,'DejaVu Sans Mono',consolas,'Courier New',monospace\">Start the battle?\n",
       "</pre>\n"
      ],
      "text/plain": [
       "Start the battle?\n"
      ]
     },
     "metadata": {},
     "output_type": "display_data"
    },
    {
     "data": {
      "text/html": [
       "<pre style=\"white-space:pre;overflow-x:auto;line-height:normal;font-family:Menlo,'DejaVu Sans Mono',consolas,'Courier New',monospace\">yes\n",
       "</pre>\n"
      ],
      "text/plain": [
       "yes\n"
      ]
     },
     "metadata": {},
     "output_type": "display_data"
    },
    {
     "data": {
      "text/html": [
       "<pre style=\"white-space:pre;overflow-x:auto;line-height:normal;font-family:Menlo,'DejaVu Sans Mono',consolas,'Courier New',monospace\"><span style=\"color: #808000; text-decoration-color: #808000\">John Lennon</span> attacking <span style=\"color: #008000; text-decoration-color: #008000\">Paul McCartney</span> in <span style=\"color: #808000; text-decoration-color: #808000; font-style: italic\">Johny</span> style with <span style=\"color: #008080; text-decoration-color: #008080; font-weight: bold\">7</span> damage\n",
       "</pre>\n"
      ],
      "text/plain": [
       "\u001b[33mJohn Lennon\u001b[0m attacking \u001b[32mPaul McCartney\u001b[0m in \u001b[3;33mJohny\u001b[0m style with \u001b[1;36m7\u001b[0m damage\n"
      ]
     },
     "metadata": {},
     "output_type": "display_data"
    },
    {
     "data": {
      "text/html": [
       "<pre style=\"white-space:pre;overflow-x:auto;line-height:normal;font-family:Menlo,'DejaVu Sans Mono',consolas,'Courier New',monospace\"><span style=\"color: #008000; text-decoration-color: #008000\">Paul McCartney</span> is <span style=\"font-weight: bold; font-style: italic\">dead</span>\n",
       "</pre>\n"
      ],
      "text/plain": [
       "\u001b[32mPaul McCartney\u001b[0m is \u001b[1;3mdead\u001b[0m\n"
      ]
     },
     "metadata": {},
     "output_type": "display_data"
    },
    {
     "data": {
      "text/html": [
       "<pre style=\"white-space:pre;overflow-x:auto;line-height:normal;font-family:Menlo,'DejaVu Sans Mono',consolas,'Courier New',monospace\"><span style=\"color: #008000; text-decoration-color: #008000\">Paul McCartney</span> attacking <span style=\"color: #808000; text-decoration-color: #808000\">John Lennon</span> in <span style=\"color: #008000; text-decoration-color: #008000; font-style: italic\">McCartney style</span> with <span style=\"color: #008080; text-decoration-color: #008080; font-weight: bold\">13</span> damage\n",
       "</pre>\n"
      ],
      "text/plain": [
       "\u001b[32mPaul McCartney\u001b[0m attacking \u001b[33mJohn Lennon\u001b[0m in \u001b[3;32mMcCartney style\u001b[0m with \u001b[1;36m13\u001b[0m damage\n"
      ]
     },
     "metadata": {},
     "output_type": "display_data"
    },
    {
     "data": {
      "text/html": [
       "<pre style=\"white-space:pre;overflow-x:auto;line-height:normal;font-family:Menlo,'DejaVu Sans Mono',consolas,'Courier New',monospace\"><span style=\"color: #808000; text-decoration-color: #808000\">John Lennon</span> is <span style=\"font-weight: bold; font-style: italic\">dead</span>\n",
       "</pre>\n"
      ],
      "text/plain": [
       "\u001b[33mJohn Lennon\u001b[0m is \u001b[1;3mdead\u001b[0m\n"
      ]
     },
     "metadata": {},
     "output_type": "display_data"
    },
    {
     "data": {
      "text/html": [
       "<pre style=\"white-space:pre;overflow-x:auto;line-height:normal;font-family:Menlo,'DejaVu Sans Mono',consolas,'Courier New',monospace\">\n",
       "<span style=\"color: #808000; text-decoration-color: #808000\">John Lennon</span> army: <span style=\"color: #008080; text-decoration-color: #008080; font-weight: bold\">6</span> beetles left\n",
       "<span style=\"color: #008000; text-decoration-color: #008000\">Paul McCartney</span> army: <span style=\"color: #008080; text-decoration-color: #008080; font-weight: bold\">3</span> beetles left\n",
       "--------------------\n",
       "</pre>\n"
      ],
      "text/plain": [
       "\n",
       "\u001b[33mJohn Lennon\u001b[0m army: \u001b[1;36m6\u001b[0m beetles left\n",
       "\u001b[32mPaul McCartney\u001b[0m army: \u001b[1;36m3\u001b[0m beetles left\n",
       "--------------------\n"
      ]
     },
     "metadata": {},
     "output_type": "display_data"
    },
    {
     "data": {
      "text/html": [
       "<pre style=\"white-space:pre;overflow-x:auto;line-height:normal;font-family:Menlo,'DejaVu Sans Mono',consolas,'Courier New',monospace\"><span style=\"color: #808000; text-decoration-color: #808000\">John Lennon</span> attacking <span style=\"color: #008000; text-decoration-color: #008000\">Paul McCartney</span> in <span style=\"color: #808000; text-decoration-color: #808000; font-style: italic\">Johny</span> style with <span style=\"color: #008080; text-decoration-color: #008080; font-weight: bold\">14</span> damage\n",
       "</pre>\n"
      ],
      "text/plain": [
       "\u001b[33mJohn Lennon\u001b[0m attacking \u001b[32mPaul McCartney\u001b[0m in \u001b[3;33mJohny\u001b[0m style with \u001b[1;36m14\u001b[0m damage\n"
      ]
     },
     "metadata": {},
     "output_type": "display_data"
    },
    {
     "data": {
      "text/html": [
       "<pre style=\"white-space:pre;overflow-x:auto;line-height:normal;font-family:Menlo,'DejaVu Sans Mono',consolas,'Courier New',monospace\"><span style=\"color: #008000; text-decoration-color: #008000\">Paul McCartney</span> is <span style=\"font-weight: bold; font-style: italic\">dead</span>\n",
       "</pre>\n"
      ],
      "text/plain": [
       "\u001b[32mPaul McCartney\u001b[0m is \u001b[1;3mdead\u001b[0m\n"
      ]
     },
     "metadata": {},
     "output_type": "display_data"
    },
    {
     "data": {
      "text/html": [
       "<pre style=\"white-space:pre;overflow-x:auto;line-height:normal;font-family:Menlo,'DejaVu Sans Mono',consolas,'Courier New',monospace\"><span style=\"color: #008000; text-decoration-color: #008000\">Paul McCartney</span> attacking <span style=\"color: #808000; text-decoration-color: #808000\">John Lennon</span> in <span style=\"color: #008000; text-decoration-color: #008000; font-style: italic\">McCartney style</span> with <span style=\"color: #008080; text-decoration-color: #008080; font-weight: bold\">50</span> damage\n",
       "</pre>\n"
      ],
      "text/plain": [
       "\u001b[32mPaul McCartney\u001b[0m attacking \u001b[33mJohn Lennon\u001b[0m in \u001b[3;32mMcCartney style\u001b[0m with \u001b[1;36m50\u001b[0m damage\n"
      ]
     },
     "metadata": {},
     "output_type": "display_data"
    },
    {
     "data": {
      "text/html": [
       "<pre style=\"white-space:pre;overflow-x:auto;line-height:normal;font-family:Menlo,'DejaVu Sans Mono',consolas,'Courier New',monospace\"><span style=\"color: #808000; text-decoration-color: #808000\">John Lennon</span> is <span style=\"font-weight: bold; font-style: italic\">dead</span>\n",
       "</pre>\n"
      ],
      "text/plain": [
       "\u001b[33mJohn Lennon\u001b[0m is \u001b[1;3mdead\u001b[0m\n"
      ]
     },
     "metadata": {},
     "output_type": "display_data"
    },
    {
     "data": {
      "text/html": [
       "<pre style=\"white-space:pre;overflow-x:auto;line-height:normal;font-family:Menlo,'DejaVu Sans Mono',consolas,'Courier New',monospace\">\n",
       "<span style=\"color: #808000; text-decoration-color: #808000\">John Lennon</span> army: <span style=\"color: #008080; text-decoration-color: #008080; font-weight: bold\">5</span> beetles left\n",
       "<span style=\"color: #008000; text-decoration-color: #008000\">Paul McCartney</span> army: <span style=\"color: #008080; text-decoration-color: #008080; font-weight: bold\">2</span> beetles left\n",
       "--------------------\n",
       "</pre>\n"
      ],
      "text/plain": [
       "\n",
       "\u001b[33mJohn Lennon\u001b[0m army: \u001b[1;36m5\u001b[0m beetles left\n",
       "\u001b[32mPaul McCartney\u001b[0m army: \u001b[1;36m2\u001b[0m beetles left\n",
       "--------------------\n"
      ]
     },
     "metadata": {},
     "output_type": "display_data"
    },
    {
     "data": {
      "text/html": [
       "<pre style=\"white-space:pre;overflow-x:auto;line-height:normal;font-family:Menlo,'DejaVu Sans Mono',consolas,'Courier New',monospace\"><span style=\"color: #808000; text-decoration-color: #808000\">John Lennon</span> attacking <span style=\"color: #008000; text-decoration-color: #008000\">Paul McCartney</span> in <span style=\"color: #808000; text-decoration-color: #808000; font-style: italic\">Johny</span> style with <span style=\"color: #008080; text-decoration-color: #008080; font-weight: bold\">22</span> damage\n",
       "</pre>\n"
      ],
      "text/plain": [
       "\u001b[33mJohn Lennon\u001b[0m attacking \u001b[32mPaul McCartney\u001b[0m in \u001b[3;33mJohny\u001b[0m style with \u001b[1;36m22\u001b[0m damage\n"
      ]
     },
     "metadata": {},
     "output_type": "display_data"
    },
    {
     "data": {
      "text/html": [
       "<pre style=\"white-space:pre;overflow-x:auto;line-height:normal;font-family:Menlo,'DejaVu Sans Mono',consolas,'Courier New',monospace\"><span style=\"color: #008000; text-decoration-color: #008000\">Paul McCartney</span> is <span style=\"font-weight: bold; font-style: italic\">dead</span>\n",
       "</pre>\n"
      ],
      "text/plain": [
       "\u001b[32mPaul McCartney\u001b[0m is \u001b[1;3mdead\u001b[0m\n"
      ]
     },
     "metadata": {},
     "output_type": "display_data"
    },
    {
     "data": {
      "text/html": [
       "<pre style=\"white-space:pre;overflow-x:auto;line-height:normal;font-family:Menlo,'DejaVu Sans Mono',consolas,'Courier New',monospace\"><span style=\"color: #008000; text-decoration-color: #008000\">Paul McCartney</span> attacking <span style=\"color: #808000; text-decoration-color: #808000\">John Lennon</span> in <span style=\"color: #008000; text-decoration-color: #008000; font-style: italic\">McCartney style</span> with <span style=\"color: #008080; text-decoration-color: #008080; font-weight: bold\">30</span> damage\n",
       "</pre>\n"
      ],
      "text/plain": [
       "\u001b[32mPaul McCartney\u001b[0m attacking \u001b[33mJohn Lennon\u001b[0m in \u001b[3;32mMcCartney style\u001b[0m with \u001b[1;36m30\u001b[0m damage\n"
      ]
     },
     "metadata": {},
     "output_type": "display_data"
    },
    {
     "data": {
      "text/html": [
       "<pre style=\"white-space:pre;overflow-x:auto;line-height:normal;font-family:Menlo,'DejaVu Sans Mono',consolas,'Courier New',monospace\"><span style=\"color: #808000; text-decoration-color: #808000\">John Lennon</span> is <span style=\"font-weight: bold; font-style: italic\">dead</span>\n",
       "</pre>\n"
      ],
      "text/plain": [
       "\u001b[33mJohn Lennon\u001b[0m is \u001b[1;3mdead\u001b[0m\n"
      ]
     },
     "metadata": {},
     "output_type": "display_data"
    },
    {
     "data": {
      "text/html": [
       "<pre style=\"white-space:pre;overflow-x:auto;line-height:normal;font-family:Menlo,'DejaVu Sans Mono',consolas,'Courier New',monospace\">\n",
       "<span style=\"color: #808000; text-decoration-color: #808000\">John Lennon</span> army: <span style=\"color: #008080; text-decoration-color: #008080; font-weight: bold\">4</span> beetles left\n",
       "<span style=\"color: #008000; text-decoration-color: #008000\">Paul McCartney</span> army: <span style=\"color: #008080; text-decoration-color: #008080; font-weight: bold\">1</span> beetles left\n",
       "--------------------\n",
       "</pre>\n"
      ],
      "text/plain": [
       "\n",
       "\u001b[33mJohn Lennon\u001b[0m army: \u001b[1;36m4\u001b[0m beetles left\n",
       "\u001b[32mPaul McCartney\u001b[0m army: \u001b[1;36m1\u001b[0m beetles left\n",
       "--------------------\n"
      ]
     },
     "metadata": {},
     "output_type": "display_data"
    },
    {
     "data": {
      "text/html": [
       "<pre style=\"white-space:pre;overflow-x:auto;line-height:normal;font-family:Menlo,'DejaVu Sans Mono',consolas,'Courier New',monospace\"><span style=\"color: #808000; text-decoration-color: #808000\">John Lennon</span> attacking <span style=\"color: #008000; text-decoration-color: #008000\">Paul McCartney</span> in <span style=\"color: #808000; text-decoration-color: #808000; font-style: italic\">Johny</span> style with <span style=\"color: #008080; text-decoration-color: #008080; font-weight: bold\">19</span> damage\n",
       "</pre>\n"
      ],
      "text/plain": [
       "\u001b[33mJohn Lennon\u001b[0m attacking \u001b[32mPaul McCartney\u001b[0m in \u001b[3;33mJohny\u001b[0m style with \u001b[1;36m19\u001b[0m damage\n"
      ]
     },
     "metadata": {},
     "output_type": "display_data"
    },
    {
     "data": {
      "text/html": [
       "<pre style=\"white-space:pre;overflow-x:auto;line-height:normal;font-family:Menlo,'DejaVu Sans Mono',consolas,'Courier New',monospace\"><span style=\"color: #008000; text-decoration-color: #008000\">Paul McCartney</span> is <span style=\"font-weight: bold; font-style: italic\">dead</span>\n",
       "</pre>\n"
      ],
      "text/plain": [
       "\u001b[32mPaul McCartney\u001b[0m is \u001b[1;3mdead\u001b[0m\n"
      ]
     },
     "metadata": {},
     "output_type": "display_data"
    },
    {
     "data": {
      "text/html": [
       "<pre style=\"white-space:pre;overflow-x:auto;line-height:normal;font-family:Menlo,'DejaVu Sans Mono',consolas,'Courier New',monospace\">\n",
       "<span style=\"color: #808000; text-decoration-color: #808000\">John Lennon</span> army: <span style=\"color: #008080; text-decoration-color: #008080; font-weight: bold\">4</span> beetles left\n",
       "<span style=\"color: #008000; text-decoration-color: #008000\">Paul McCartney</span> army: <span style=\"color: #008080; text-decoration-color: #008080; font-weight: bold\">0</span> beetles left\n",
       "--------------------\n",
       "</pre>\n"
      ],
      "text/plain": [
       "\n",
       "\u001b[33mJohn Lennon\u001b[0m army: \u001b[1;36m4\u001b[0m beetles left\n",
       "\u001b[32mPaul McCartney\u001b[0m army: \u001b[1;36m0\u001b[0m beetles left\n",
       "--------------------\n"
      ]
     },
     "metadata": {},
     "output_type": "display_data"
    },
    {
     "data": {
      "text/html": [
       "<pre style=\"white-space:pre;overflow-x:auto;line-height:normal;font-family:Menlo,'DejaVu Sans Mono',consolas,'Courier New',monospace\">XXXXXXXXXXXXXXXXXXXXXXXXXXXXXXXXXXXXXXXX\n",
       "<span style=\"color: #008000; text-decoration-color: #008000\">Paul McCartney</span> army is <span style=\"font-weight: bold; font-style: italic\">dead</span>\n",
       "XXXXXXXXXXXXXXXXXXXXXXXXXXXXXXXXXXXXXXXX\n",
       "</pre>\n"
      ],
      "text/plain": [
       "XXXXXXXXXXXXXXXXXXXXXXXXXXXXXXXXXXXXXXXX\n",
       "\u001b[32mPaul McCartney\u001b[0m army is \u001b[1;3mdead\u001b[0m\n",
       "XXXXXXXXXXXXXXXXXXXXXXXXXXXXXXXXXXXXXXXX\n"
      ]
     },
     "metadata": {},
     "output_type": "display_data"
    },
    {
     "data": {
      "text/html": [
       "<pre style=\"white-space:pre;overflow-x:auto;line-height:normal;font-family:Menlo,'DejaVu Sans Mono',consolas,'Courier New',monospace\"><span style=\"color: #808000; text-decoration-color: #808000\">John Lennon</span> attacking <span style=\"color: #800000; text-decoration-color: #800000\">George Harrison</span> in <span style=\"color: #808000; text-decoration-color: #808000; font-style: italic\">Johny</span> style with <span style=\"color: #008080; text-decoration-color: #008080; font-weight: bold\">24</span> damage\n",
       "</pre>\n"
      ],
      "text/plain": [
       "\u001b[33mJohn Lennon\u001b[0m attacking \u001b[31mGeorge Harrison\u001b[0m in \u001b[3;33mJohny\u001b[0m style with \u001b[1;36m24\u001b[0m damage\n"
      ]
     },
     "metadata": {},
     "output_type": "display_data"
    },
    {
     "data": {
      "text/html": [
       "<pre style=\"white-space:pre;overflow-x:auto;line-height:normal;font-family:Menlo,'DejaVu Sans Mono',consolas,'Courier New',monospace\"><span style=\"color: #800000; text-decoration-color: #800000\">George Harrison</span> is <span style=\"font-weight: bold; font-style: italic\">dead</span>\n",
       "</pre>\n"
      ],
      "text/plain": [
       "\u001b[31mGeorge Harrison\u001b[0m is \u001b[1;3mdead\u001b[0m\n"
      ]
     },
     "metadata": {},
     "output_type": "display_data"
    },
    {
     "data": {
      "text/html": [
       "<pre style=\"white-space:pre;overflow-x:auto;line-height:normal;font-family:Menlo,'DejaVu Sans Mono',consolas,'Courier New',monospace\"><span style=\"color: #800000; text-decoration-color: #800000\">George Harrison</span> attacking <span style=\"color: #808000; text-decoration-color: #808000\">John Lennon</span> <span style=\"font-style: italic\">without</span> style with <span style=\"color: #008080; text-decoration-color: #008080; font-weight: bold\">86</span> damage\n",
       "</pre>\n"
      ],
      "text/plain": [
       "\u001b[31mGeorge Harrison\u001b[0m attacking \u001b[33mJohn Lennon\u001b[0m \u001b[3mwithout\u001b[0m style with \u001b[1;36m86\u001b[0m damage\n"
      ]
     },
     "metadata": {},
     "output_type": "display_data"
    },
    {
     "data": {
      "text/html": [
       "<pre style=\"white-space:pre;overflow-x:auto;line-height:normal;font-family:Menlo,'DejaVu Sans Mono',consolas,'Courier New',monospace\"><span style=\"color: #808000; text-decoration-color: #808000\">John Lennon</span> is <span style=\"font-weight: bold; font-style: italic\">dead</span>\n",
       "</pre>\n"
      ],
      "text/plain": [
       "\u001b[33mJohn Lennon\u001b[0m is \u001b[1;3mdead\u001b[0m\n"
      ]
     },
     "metadata": {},
     "output_type": "display_data"
    },
    {
     "data": {
      "text/html": [
       "<pre style=\"white-space:pre;overflow-x:auto;line-height:normal;font-family:Menlo,'DejaVu Sans Mono',consolas,'Courier New',monospace\">\n",
       "<span style=\"color: #808000; text-decoration-color: #808000\">John Lennon</span> army: <span style=\"color: #008080; text-decoration-color: #008080; font-weight: bold\">3</span> beetles left\n",
       "<span style=\"color: #800000; text-decoration-color: #800000\">George Harrison</span> army: <span style=\"color: #008080; text-decoration-color: #008080; font-weight: bold\">29</span> beetles left\n",
       "--------------------\n",
       "</pre>\n"
      ],
      "text/plain": [
       "\n",
       "\u001b[33mJohn Lennon\u001b[0m army: \u001b[1;36m3\u001b[0m beetles left\n",
       "\u001b[31mGeorge Harrison\u001b[0m army: \u001b[1;36m29\u001b[0m beetles left\n",
       "--------------------\n"
      ]
     },
     "metadata": {},
     "output_type": "display_data"
    },
    {
     "data": {
      "text/html": [
       "<pre style=\"white-space:pre;overflow-x:auto;line-height:normal;font-family:Menlo,'DejaVu Sans Mono',consolas,'Courier New',monospace\"><span style=\"color: #808000; text-decoration-color: #808000\">John Lennon</span> attacking <span style=\"color: #800000; text-decoration-color: #800000\">George Harrison</span> in <span style=\"color: #808000; text-decoration-color: #808000; font-style: italic\">Johny</span> style with <span style=\"color: #008080; text-decoration-color: #008080; font-weight: bold\">17</span> damage\n",
       "</pre>\n"
      ],
      "text/plain": [
       "\u001b[33mJohn Lennon\u001b[0m attacking \u001b[31mGeorge Harrison\u001b[0m in \u001b[3;33mJohny\u001b[0m style with \u001b[1;36m17\u001b[0m damage\n"
      ]
     },
     "metadata": {},
     "output_type": "display_data"
    },
    {
     "data": {
      "text/html": [
       "<pre style=\"white-space:pre;overflow-x:auto;line-height:normal;font-family:Menlo,'DejaVu Sans Mono',consolas,'Courier New',monospace\"><span style=\"color: #800000; text-decoration-color: #800000\">George Harrison</span> is <span style=\"font-weight: bold; font-style: italic\">dead</span>\n",
       "</pre>\n"
      ],
      "text/plain": [
       "\u001b[31mGeorge Harrison\u001b[0m is \u001b[1;3mdead\u001b[0m\n"
      ]
     },
     "metadata": {},
     "output_type": "display_data"
    },
    {
     "data": {
      "text/html": [
       "<pre style=\"white-space:pre;overflow-x:auto;line-height:normal;font-family:Menlo,'DejaVu Sans Mono',consolas,'Courier New',monospace\"><span style=\"color: #800000; text-decoration-color: #800000\">George Harrison</span> attacking <span style=\"color: #808000; text-decoration-color: #808000\">John Lennon</span> <span style=\"font-style: italic\">without</span> style with <span style=\"color: #008080; text-decoration-color: #008080; font-weight: bold\">10</span> damage\n",
       "</pre>\n"
      ],
      "text/plain": [
       "\u001b[31mGeorge Harrison\u001b[0m attacking \u001b[33mJohn Lennon\u001b[0m \u001b[3mwithout\u001b[0m style with \u001b[1;36m10\u001b[0m damage\n"
      ]
     },
     "metadata": {},
     "output_type": "display_data"
    },
    {
     "data": {
      "text/html": [
       "<pre style=\"white-space:pre;overflow-x:auto;line-height:normal;font-family:Menlo,'DejaVu Sans Mono',consolas,'Courier New',monospace\"><span style=\"color: #808000; text-decoration-color: #808000\">John Lennon</span> is <span style=\"font-weight: bold; font-style: italic\">dead</span>\n",
       "</pre>\n"
      ],
      "text/plain": [
       "\u001b[33mJohn Lennon\u001b[0m is \u001b[1;3mdead\u001b[0m\n"
      ]
     },
     "metadata": {},
     "output_type": "display_data"
    },
    {
     "data": {
      "text/html": [
       "<pre style=\"white-space:pre;overflow-x:auto;line-height:normal;font-family:Menlo,'DejaVu Sans Mono',consolas,'Courier New',monospace\">\n",
       "<span style=\"color: #808000; text-decoration-color: #808000\">John Lennon</span> army: <span style=\"color: #008080; text-decoration-color: #008080; font-weight: bold\">2</span> beetles left\n",
       "<span style=\"color: #800000; text-decoration-color: #800000\">George Harrison</span> army: <span style=\"color: #008080; text-decoration-color: #008080; font-weight: bold\">28</span> beetles left\n",
       "--------------------\n",
       "</pre>\n"
      ],
      "text/plain": [
       "\n",
       "\u001b[33mJohn Lennon\u001b[0m army: \u001b[1;36m2\u001b[0m beetles left\n",
       "\u001b[31mGeorge Harrison\u001b[0m army: \u001b[1;36m28\u001b[0m beetles left\n",
       "--------------------\n"
      ]
     },
     "metadata": {},
     "output_type": "display_data"
    },
    {
     "data": {
      "text/html": [
       "<pre style=\"white-space:pre;overflow-x:auto;line-height:normal;font-family:Menlo,'DejaVu Sans Mono',consolas,'Courier New',monospace\"><span style=\"color: #808000; text-decoration-color: #808000\">John Lennon</span> attacking <span style=\"color: #800000; text-decoration-color: #800000\">George Harrison</span> in <span style=\"color: #808000; text-decoration-color: #808000; font-style: italic\">Johny</span> style with <span style=\"color: #008080; text-decoration-color: #008080; font-weight: bold\">15</span> damage\n",
       "</pre>\n"
      ],
      "text/plain": [
       "\u001b[33mJohn Lennon\u001b[0m attacking \u001b[31mGeorge Harrison\u001b[0m in \u001b[3;33mJohny\u001b[0m style with \u001b[1;36m15\u001b[0m damage\n"
      ]
     },
     "metadata": {},
     "output_type": "display_data"
    },
    {
     "data": {
      "text/html": [
       "<pre style=\"white-space:pre;overflow-x:auto;line-height:normal;font-family:Menlo,'DejaVu Sans Mono',consolas,'Courier New',monospace\"><span style=\"color: #800000; text-decoration-color: #800000\">George Harrison</span> is <span style=\"font-weight: bold; font-style: italic\">dead</span>\n",
       "</pre>\n"
      ],
      "text/plain": [
       "\u001b[31mGeorge Harrison\u001b[0m is \u001b[1;3mdead\u001b[0m\n"
      ]
     },
     "metadata": {},
     "output_type": "display_data"
    },
    {
     "data": {
      "text/html": [
       "<pre style=\"white-space:pre;overflow-x:auto;line-height:normal;font-family:Menlo,'DejaVu Sans Mono',consolas,'Courier New',monospace\"><span style=\"color: #800000; text-decoration-color: #800000\">George Harrison</span> attacking <span style=\"color: #808000; text-decoration-color: #808000\">John Lennon</span> <span style=\"font-style: italic\">without</span> style with <span style=\"color: #008080; text-decoration-color: #008080; font-weight: bold\">21</span> damage\n",
       "</pre>\n"
      ],
      "text/plain": [
       "\u001b[31mGeorge Harrison\u001b[0m attacking \u001b[33mJohn Lennon\u001b[0m \u001b[3mwithout\u001b[0m style with \u001b[1;36m21\u001b[0m damage\n"
      ]
     },
     "metadata": {},
     "output_type": "display_data"
    },
    {
     "data": {
      "text/html": [
       "<pre style=\"white-space:pre;overflow-x:auto;line-height:normal;font-family:Menlo,'DejaVu Sans Mono',consolas,'Courier New',monospace\"><span style=\"color: #808000; text-decoration-color: #808000\">John Lennon</span> is <span style=\"font-weight: bold; font-style: italic\">dead</span>\n",
       "</pre>\n"
      ],
      "text/plain": [
       "\u001b[33mJohn Lennon\u001b[0m is \u001b[1;3mdead\u001b[0m\n"
      ]
     },
     "metadata": {},
     "output_type": "display_data"
    },
    {
     "data": {
      "text/html": [
       "<pre style=\"white-space:pre;overflow-x:auto;line-height:normal;font-family:Menlo,'DejaVu Sans Mono',consolas,'Courier New',monospace\">\n",
       "<span style=\"color: #808000; text-decoration-color: #808000\">John Lennon</span> army: <span style=\"color: #008080; text-decoration-color: #008080; font-weight: bold\">1</span> beetles left\n",
       "<span style=\"color: #800000; text-decoration-color: #800000\">George Harrison</span> army: <span style=\"color: #008080; text-decoration-color: #008080; font-weight: bold\">27</span> beetles left\n",
       "--------------------\n",
       "</pre>\n"
      ],
      "text/plain": [
       "\n",
       "\u001b[33mJohn Lennon\u001b[0m army: \u001b[1;36m1\u001b[0m beetles left\n",
       "\u001b[31mGeorge Harrison\u001b[0m army: \u001b[1;36m27\u001b[0m beetles left\n",
       "--------------------\n"
      ]
     },
     "metadata": {},
     "output_type": "display_data"
    },
    {
     "data": {
      "text/html": [
       "<pre style=\"white-space:pre;overflow-x:auto;line-height:normal;font-family:Menlo,'DejaVu Sans Mono',consolas,'Courier New',monospace\"><span style=\"color: #808000; text-decoration-color: #808000\">John Lennon</span> attacking <span style=\"color: #800000; text-decoration-color: #800000\">George Harrison</span> in <span style=\"color: #808000; text-decoration-color: #808000; font-style: italic\">Johny</span> style with <span style=\"color: #008080; text-decoration-color: #008080; font-weight: bold\">29</span> damage\n",
       "</pre>\n"
      ],
      "text/plain": [
       "\u001b[33mJohn Lennon\u001b[0m attacking \u001b[31mGeorge Harrison\u001b[0m in \u001b[3;33mJohny\u001b[0m style with \u001b[1;36m29\u001b[0m damage\n"
      ]
     },
     "metadata": {},
     "output_type": "display_data"
    },
    {
     "data": {
      "text/html": [
       "<pre style=\"white-space:pre;overflow-x:auto;line-height:normal;font-family:Menlo,'DejaVu Sans Mono',consolas,'Courier New',monospace\"><span style=\"color: #800000; text-decoration-color: #800000\">George Harrison</span> is <span style=\"font-weight: bold; font-style: italic\">dead</span>\n",
       "</pre>\n"
      ],
      "text/plain": [
       "\u001b[31mGeorge Harrison\u001b[0m is \u001b[1;3mdead\u001b[0m\n"
      ]
     },
     "metadata": {},
     "output_type": "display_data"
    },
    {
     "data": {
      "text/html": [
       "<pre style=\"white-space:pre;overflow-x:auto;line-height:normal;font-family:Menlo,'DejaVu Sans Mono',consolas,'Courier New',monospace\"><span style=\"color: #800000; text-decoration-color: #800000\">George Harrison</span> attacking <span style=\"color: #808000; text-decoration-color: #808000\">John Lennon</span> <span style=\"font-style: italic\">without</span> style with <span style=\"color: #008080; text-decoration-color: #008080; font-weight: bold\">63</span> damage\n",
       "</pre>\n"
      ],
      "text/plain": [
       "\u001b[31mGeorge Harrison\u001b[0m attacking \u001b[33mJohn Lennon\u001b[0m \u001b[3mwithout\u001b[0m style with \u001b[1;36m63\u001b[0m damage\n"
      ]
     },
     "metadata": {},
     "output_type": "display_data"
    },
    {
     "data": {
      "text/html": [
       "<pre style=\"white-space:pre;overflow-x:auto;line-height:normal;font-family:Menlo,'DejaVu Sans Mono',consolas,'Courier New',monospace\"><span style=\"color: #808000; text-decoration-color: #808000\">John Lennon</span> is <span style=\"font-weight: bold; font-style: italic\">dead</span>\n",
       "</pre>\n"
      ],
      "text/plain": [
       "\u001b[33mJohn Lennon\u001b[0m is \u001b[1;3mdead\u001b[0m\n"
      ]
     },
     "metadata": {},
     "output_type": "display_data"
    },
    {
     "data": {
      "text/html": [
       "<pre style=\"white-space:pre;overflow-x:auto;line-height:normal;font-family:Menlo,'DejaVu Sans Mono',consolas,'Courier New',monospace\">\n",
       "<span style=\"color: #808000; text-decoration-color: #808000\">John Lennon</span> army: <span style=\"color: #008080; text-decoration-color: #008080; font-weight: bold\">0</span> beetles left\n",
       "<span style=\"color: #800000; text-decoration-color: #800000\">George Harrison</span> army: <span style=\"color: #008080; text-decoration-color: #008080; font-weight: bold\">26</span> beetles left\n",
       "--------------------\n",
       "</pre>\n"
      ],
      "text/plain": [
       "\n",
       "\u001b[33mJohn Lennon\u001b[0m army: \u001b[1;36m0\u001b[0m beetles left\n",
       "\u001b[31mGeorge Harrison\u001b[0m army: \u001b[1;36m26\u001b[0m beetles left\n",
       "--------------------\n"
      ]
     },
     "metadata": {},
     "output_type": "display_data"
    },
    {
     "data": {
      "text/html": [
       "<pre style=\"white-space:pre;overflow-x:auto;line-height:normal;font-family:Menlo,'DejaVu Sans Mono',consolas,'Courier New',monospace\">XXXXXXXXXXXXXXXXXXXXXXXXXXXXXXXXXXXXXXXX\n",
       "<span style=\"color: #808000; text-decoration-color: #808000\">John Lennon</span> army is <span style=\"font-weight: bold; font-style: italic\">dead</span>\n",
       "XXXXXXXXXXXXXXXXXXXXXXXXXXXXXXXXXXXXXXXX\n",
       "</pre>\n"
      ],
      "text/plain": [
       "XXXXXXXXXXXXXXXXXXXXXXXXXXXXXXXXXXXXXXXX\n",
       "\u001b[33mJohn Lennon\u001b[0m army is \u001b[1;3mdead\u001b[0m\n",
       "XXXXXXXXXXXXXXXXXXXXXXXXXXXXXXXXXXXXXXXX\n"
      ]
     },
     "metadata": {},
     "output_type": "display_data"
    },
    {
     "data": {
      "text/html": [
       "<pre style=\"white-space:pre;overflow-x:auto;line-height:normal;font-family:Menlo,'DejaVu Sans Mono',consolas,'Courier New',monospace\">****************************************\n",
       "<span style=\"color: #800000; text-decoration-color: #800000\">George Harrison</span> army is a <span style=\"font-weight: bold\">winner</span>!\n",
       "****************************************\n",
       "</pre>\n"
      ],
      "text/plain": [
       "****************************************\n",
       "\u001b[31mGeorge Harrison\u001b[0m army is a \u001b[1mwinner\u001b[0m!\n",
       "****************************************\n"
      ]
     },
     "metadata": {},
     "output_type": "display_data"
    }
   ],
   "source": [
    "import random\n",
    "from enum import StrEnum\n",
    "from threading import ExceptHookArgs\n",
    "from typing import Self\n",
    "from rich import print as rprint\n",
    "\n",
    "\n",
    "class Names(StrEnum):\n",
    "    JOHN = f\"[yellow]John Lennon[/yellow]\"\n",
    "    PAUL = f\"[green]Paul McCartney[/green]\"\n",
    "    GEORGE = f\"[red]George Harrison[/red]\"\n",
    "    RINGO = f\"[blue]Ringo Starr[/blue]\"\n",
    "    \n",
    "    \n",
    "class Beetle:\n",
    "    health_points: int\n",
    "    name: Names\n",
    "    max_power: int\n",
    "    def __init__(\n",
    "        self,\n",
    "        health_points: int = 100,\n",
    "        name: Names = Names.JOHN,\n",
    "        max_power: int = 10\n",
    "    ) -> None:\n",
    "        self.health_points = health_points\n",
    "        self.name = name\n",
    "        self.max_power = max_power\n",
    "    def __eq__(self, other: Self) -> bool:\n",
    "        return self.health_points == other.health_points\n",
    "    def __lt__(self, other: Self) -> bool:\n",
    "        return self.health_points < other.health_points\n",
    "    def __le__(self, other: Self) -> bool:\n",
    "        return self.health_points <= other.health_points\n",
    "    def __str__(self) -> str:\n",
    "        return f'Beetle(name=\"{self.name}\", hp={self.health_points!r}, power={self.max_power!r})'\n",
    "    def styling(self) -> str:\n",
    "        if self.name is Names.JOHN:\n",
    "            return \"in [yellow italic]Johny[/yellow italic] style\"\n",
    "        elif self.name is Names.PAUL:\n",
    "            return \"in [green italic]McCartney style[/green italic]\"\n",
    "        return \"[italic]without[/italic] style\"\n",
    "    def attack(self, other: Self) -> None:\n",
    "        attack_power = random.randint(1, self.max_power)\n",
    "        rprint(f\"{self.name} attacking {other.name} {self.styling()} with {attack_power} damage\")\n",
    "        other.health_points -= attack_power\n",
    "\n",
    "\n",
    "class BeetlesArmy:\n",
    "    beetles_list: list[Beetle]\n",
    "    beetles_name: Names\n",
    "    beetles_max_health_points: int\n",
    "    beetles_max_power: int\n",
    "    def __init__(\n",
    "        self,\n",
    "        beetles_name: Names,\n",
    "        beetles_army_size: int = 20,\n",
    "        beetles_max_health_points: int = 100,\n",
    "        beetles_max_power: int = 10\n",
    "    ):\n",
    "        self.beetles_list = []\n",
    "        self.beetles_name = beetles_name\n",
    "        self.beetles_max_health_points = beetles_max_health_points\n",
    "        self.beetles_max_power = beetles_max_power\n",
    "        for _ in range(beetles_army_size):\n",
    "            beetle = Beetle(\n",
    "                health_points=random.randint(1, self.beetles_max_health_points),\n",
    "                name=self.beetles_name,\n",
    "                max_power= self.beetles_max_power,\n",
    "            )\n",
    "            self.beetles_list.append(beetle)\n",
    "    def __len__(self) -> int:\n",
    "        return len(self.beetles_list)\n",
    "    def __add__(self, other: Self) -> Self:\n",
    "        if self.beetles_name != other.beetles_name:\n",
    "            raise ValueError(\"Cannot make two different-named beetles friends\")\n",
    "        new_beetles_list: list[Beetle] = self.beetles_list + other.beetles_list\n",
    "        new_army = self.__class__(\n",
    "            beetles_army_size=1,\n",
    "            beetles_name=self.beetles_name,\n",
    "            beetles_max_health_points=self.beetles_max_health_points,\n",
    "            beettles_max_power = self.beetles_max_power\n",
    "        )\n",
    "        new_army.beetles_list = new_beetles_list\n",
    "        return new_army\n",
    "    def rprint_army_listing(self):\n",
    "        for beetle in self.beetles_list:\n",
    "            rprint(beetle)\n",
    "\n",
    "\n",
    "def start():\n",
    "    rprint(\"I see, you are thirst for the blood.\")\n",
    "    rprint(\"Well, input the number of armies which you're willing to crush: \")\n",
    "    user_army_size = int(input())\n",
    "    rprint(user_army_size)\n",
    "\n",
    "    if user_army_size > 4:\n",
    "        rprint(\"You are maniac! We don't even have such quantity of beetles. Go away, psycho!\")\n",
    "    elif user_army_size == 0:\n",
    "        rprint(\"You are pacifist! Go away to your unicorn land.\")\n",
    "    elif user_army_size == 1:\n",
    "        rprint(\"There is safety in numbers\")\n",
    "    elif user_army_size < 0:\n",
    "        rprint(\"What do you even want to see with such requirenments? Dead beetles don't fight.\")\n",
    "    else:\n",
    "        initiate_armies(user_army_size)\n",
    "        \n",
    "        \n",
    "def initiate_armies(user_army_size):\n",
    "    armies_names = []\n",
    "    while len(armies_names) < user_army_size:\n",
    "        rprint(f\"How army {len(armies_names) + 1} will be called ([yellow]JOHN[/yellow], [green]PAUL[/green], [red]GEORGE[/red], [blue]RINGO[/blue])?: \")\n",
    "        \n",
    "        army_name = input()\n",
    "        rprint(army_name)\n",
    "        \n",
    "        if army_name.upper() != \"JOHN\" and army_name.upper() != \"PAUL\" and army_name.upper() != \"GEORGE\" and army_name.upper() != \"RINGO\":\n",
    "                \n",
    "            rprint(\"There are no beetles with this name. Try again\")\n",
    "            \n",
    "        else:\n",
    "            armies_names.append(army_name)\n",
    "            \n",
    "            \n",
    "    armies = []\n",
    "    for i, army_name in enumerate(armies_names):\n",
    "        name_enum = Names[army_name.upper()]\n",
    "        rprint(f\"Input the quantity of beetles in army {i + 1}: \")\n",
    "        army_size = int(input())\n",
    "        rprint(army_size)\n",
    "        \n",
    "        rprint(f\"Input the max health value of beetles in army {i + 1}: \")\n",
    "        max_health_points = int(input())\n",
    "        rprint(max_health_points)\n",
    "        \n",
    "        rprint(f\"Input the max power value of beetles in army {i + 1}: \")\n",
    "        max_power = int(input())\n",
    "        rprint(max_power)\n",
    "        \n",
    "        army = BeetlesArmy(\n",
    "            beetles_name = name_enum,\n",
    "            beetles_army_size = army_size,\n",
    "            beetles_max_health_points = max_health_points,\n",
    "            beetles_max_power = max_power\n",
    "        )\n",
    "        \n",
    "        armies.append(army)\n",
    "        \n",
    "    rprint(f\"\\nOverall {len(armies)} armies were created for the great battle!\")\n",
    "    \n",
    "    rprint(\"Start the battle?\")\n",
    "    decision = input()\n",
    "    rprint(decision)\n",
    "    \n",
    "    if decision.upper() == \"YES\":\n",
    "        battle(armies)\n",
    "    else:\n",
    "        rprint(\"The gates of Valhalla are closed for you forever.\")\n",
    "    \n",
    "\n",
    "def battle(armies):    \n",
    "    while len(armies) > 1:\n",
    "        ba1 = armies[0]\n",
    "        ba2 = armies[1]\n",
    "        \n",
    "        if len(ba1) !=0 and len(ba2) != 0:\n",
    "            ba1.beetles_list[0].attack(ba2.beetles_list[0])\n",
    "            if ba2.beetles_list[0].health_points <= 0:\n",
    "                rprint(f\"{ba2.beetles_list[0].name} is [bold italic]dead[/bold italic]\")\n",
    "                ba2.beetles_list.pop(0)\n",
    "                if (ba1.beetles_list[0].health_points + 10) <= ba1.beetles_max_health_points:\n",
    "                    ba1.beetles_list[0].health_points += 10\n",
    "            if len(ba2) != 0:\n",
    "                ba2.beetles_list[0].attack(ba1.beetles_list[0])\n",
    "                if ba1.beetles_list[0].health_points <= 0:\n",
    "                    rprint(f\"{ba1.beetles_list[0].name} is [bold italic]dead[/bold italic]\")\n",
    "                    ba1.beetles_list.pop(0)\n",
    "                    if (ba2.beetles_list[0].health_points + 10) <= ba1.beetles_max_health_points:\n",
    "                        ba2.beetles_list[0].health_points += 10\n",
    "            rprint(f\"\\n{ba1.beetles_name} army: {len(ba1)} beetles left\", f\"{ba2.beetles_name} army: {len(ba2)} beetles left\", \"-\" * 20, sep=\"\\n\")\n",
    "            \n",
    "        else:\n",
    "            if len(ba1) == 0:\n",
    "                rprint(\"X\" * 40, f\"{ba1.beetles_name} army is [bold italic]dead[/bold italic]\", \"X\" * 40, sep=\"\\n\")\n",
    "                armies.pop(0)\n",
    "            else:\n",
    "                rprint(\"X\" * 40, f\"{ba2.beetles_name} army is [bold italic]dead[/bold italic]\", \"X\" * 40, sep=\"\\n\")\n",
    "                armies.pop(1)\n",
    "                \n",
    "    rprint(\"*\" * 40, f\"{armies[0].beetles_name} army is a [bold]winner[/bold]!\", \"*\" * 40, sep=\"\\n\")            \n",
    "        \n",
    "        \n",
    "        \n",
    "if __name__ == \"__main__\":\n",
    "    start()"
   ]
  }
 ],
 "metadata": {
  "kernelspec": {
   "display_name": "Python 3",
   "language": "python",
   "name": "python3"
  },
  "language_info": {
   "codemirror_mode": {
    "name": "ipython",
    "version": 3
   },
   "file_extension": ".py",
   "mimetype": "text/x-python",
   "name": "python",
   "nbconvert_exporter": "python",
   "pygments_lexer": "ipython3",
   "version": "3.13.7"
  }
 },
 "nbformat": 4,
 "nbformat_minor": 5
}
